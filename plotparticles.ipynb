{
 "cells": [
  {
   "cell_type": "code",
   "execution_count": null,
   "metadata": {},
   "outputs": [],
   "source": [
    "import xarray as xr\n",
    "import numpy as np\n",
    "import matplotlib.pyplot as plt\n",
    "import matplotlib.colors as colors\n",
    "import matplotlib.animation as animation\n",
    "from matplotlib import rc\n",
    "from parcels import plotTrajectoriesFile\n",
    "from parcels.plotting import create_parcelsfig_axis, cartopy_colorbar\n",
    "import cartopy\n",
    "%pylab inline"
   ]
  },
  {
   "cell_type": "code",
   "execution_count": null,
   "metadata": {},
   "outputs": [],
   "source": [
    "class ParticleData(object):\n",
    "    def __init__(self):\n",
    "        self.id = []\n",
    "\n",
    "def load_particles_file(fname, varnames):\n",
    "    T = ParticleData()\n",
    "    pfile = xr.open_dataset(str(fname), decode_cf=True)\n",
    "    T.id = pfile.variables['trajectory'][:]\n",
    "\n",
    "    for v in varnames:\n",
    "        setattr(T, v,  np.ma.filled(pfile.variables[v][:], np.nan))\n",
    "    pfile.close()\n",
    "    \n",
    "    return T\n",
    "\n",
    "D = {}\n",
    "wstokes = False\n",
    "for y in [2001]:\n",
    "    if wstokes:\n",
    "        fname = \"medturtles_%d_wstokes.nc\" % y\n",
    "    else:\n",
    "        fname = \"medturtles_%d.nc\" % y\n",
    "\n",
    "    D[y] = load_particles_file(fname, ['lon', 'lat', 'time'])\n",
    "    D[y].year = y\n",
    "    D[y].fname = fname"
   ]
  },
  {
   "cell_type": "code",
   "execution_count": null,
   "metadata": {},
   "outputs": [],
   "source": [
    "from matplotlib import animation, rc\n",
    "pylab.rcParams['figure.figsize'] = (11, 8)\n",
    "\n",
    "for y in D:\n",
    "    T = D[y]\n",
    "    projection = cartopy.crs.PlateCarree()\n",
    "    fig, ax = plt.subplots(1, 1,subplot_kw={'projection': projection})\n",
    "    ax.coastlines(resolution='50m')\n",
    "    ax.add_feature(cartopy.feature.LAND)\n",
    "\n",
    "    plottimes = np.arange(np.min(T.time), np.max(T.time), dtype='datetime64[1D]')\n",
    "\n",
    "    b = np.where(np.logical_and(T.time >= plottimes[0], T.time < plottimes[1]))\n",
    "    scat = ax.scatter(T.lon[b], T.lat[b], s=3, \n",
    "                      transform=cartopy.crs.Geodetic(), cmap=\"bwr\")\n",
    "    axextent = [10, 38, 30, 43]\n",
    "    ax.set_extent(axextent, crs=cartopy.crs.PlateCarree())\n",
    "\n",
    "    ttl = ax.set_title(T.fname+' particles on ' + str(plottimes[0]))\n",
    "    frames = np.arange(0, len(plottimes)-1)\n",
    "\n",
    "    def animate(t):\n",
    "        b = np.where(np.logical_and(T.time >= plottimes[t], T.time < plottimes[t+1]))\n",
    "        scat.set_offsets(np.vstack((T.lon[b], T.lat[b])).transpose())\n",
    "        ttl.set_text(T.fname+' particles on ' + str(plottimes[t]))\n",
    "        return scat,\n",
    "\n",
    "    ax.set_extent(axextent, crs=cartopy.crs.PlateCarree())\n",
    "    anim = animation.FuncAnimation(fig, animate, frames=frames, interval=100, blit=True)\n",
    "    anim\n",
    "    mname = fname.replace('.nc', '.gif')\n",
    "    anim.save(mname, writer='imagemagick', fps=10)"
   ]
  },
  {
   "cell_type": "code",
   "execution_count": null,
   "metadata": {},
   "outputs": [],
   "source": []
  }
 ],
 "metadata": {
  "kernelspec": {
   "display_name": "Python 3",
   "language": "python",
   "name": "python3"
  },
  "language_info": {
   "codemirror_mode": {
    "name": "ipython",
    "version": 3
   },
   "file_extension": ".py",
   "mimetype": "text/x-python",
   "name": "python",
   "nbconvert_exporter": "python",
   "pygments_lexer": "ipython3",
   "version": "3.6.8"
  }
 },
 "nbformat": 4,
 "nbformat_minor": 2
}
